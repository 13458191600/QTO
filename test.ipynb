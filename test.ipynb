{
 "cells": [
  {
   "cell_type": "code",
   "execution_count": 1,
   "metadata": {},
   "outputs": [
    {
     "data": {
      "text/plain": [
       "[0, 2, 4]"
      ]
     },
     "execution_count": 1,
     "metadata": {},
     "output_type": "execute_result"
    }
   ],
   "source": [
    "[i for i in range(5) if i % 2 == 0]"
   ]
  },
  {
   "cell_type": "code",
   "execution_count": 36,
   "metadata": {},
   "outputs": [
    {
     "data": {
      "text/plain": [
       "[[2, 0, 4, 3], [1, 3, 0, 2]]"
      ]
     },
     "execution_count": 36,
     "metadata": {},
     "output_type": "execute_result"
    }
   ],
   "source": [
    "import random\n",
    "def generate_random_scp_data(s, c, min_coverage=1, max_coverage=None):\n",
    "    if max_coverage is None:\n",
    "        max_coverage = c  # 每个集合最多覆盖 c 个点\n",
    "    \n",
    "    # 初始化结果列表\n",
    "    scp_data = [[] for _ in range(s)]\n",
    "    \n",
    "    # 确保每个点至少被一个集合覆盖\n",
    "    all_points = list(range(c))\n",
    "    random.shuffle(all_points)\n",
    "    \n",
    "    # 将每个点分配给一个随机的集合，确保每个点至少被覆盖一次\n",
    "    for i, point in enumerate(all_points):\n",
    "        scp_data[i % s].append(point)\n",
    "    \n",
    "    # 然后随机增加覆盖关系，确保每个集合的覆盖范围在 min_coverage 到 max_coverage 之间\n",
    "    for subset in scp_data:\n",
    "        # 当前集合已经有的覆盖点数量\n",
    "        current_coverage = len(subset)\n",
    "        # 如果当前覆盖小于 min_coverage，就添加更多点\n",
    "        if current_coverage < min_coverage:\n",
    "            additional_points = random.sample(\n",
    "                [p for p in all_points if p not in subset],\n",
    "                min_coverage - current_coverage\n",
    "            )\n",
    "            subset.extend(additional_points)\n",
    "        \n",
    "        # 如果当前覆盖大于 max_coverage，就减少点\n",
    "        elif current_coverage > max_coverage:\n",
    "            subset = random.sample(subset, max_coverage)\n",
    "        \n",
    "        # 随机增加额外的点覆盖\n",
    "        num_additional_points = random.randint(0, max_coverage - len(subset))\n",
    "        additional_points = random.sample(\n",
    "            [p for p in all_points if p not in subset],\n",
    "            num_additional_points\n",
    "        )\n",
    "        subset.extend(additional_points)\n",
    "\n",
    "    return scp_data\n",
    "\n",
    "generate_random_scp_data(2, 5)"
   ]
  },
  {
   "cell_type": "code",
   "execution_count": 1,
   "metadata": {},
   "outputs": [
    {
     "name": "stdout",
     "output_type": "stream",
     "text": [
      "m:\n",
      "variables:\n",
      "x_0 (type: binary)   y_0_0 (type: binary)   slk_0_0 (type: binary)   slk_1_0 (type: binary)   slk_2_0 (type: binary)   slk_4_0 (type: binary)   slk_4_1 (type: binary)   slk_5_0 (type: binary)   slk_5_1 (type: binary)   slk_6_0 (type: binary)   slk_6_1 (type: binary)   slk_7_0 (type: binary)\n",
      "\n",
      "obj:\n",
      "min 3 * y_0_0 + 4 * x_0\n",
      "\n",
      "s.t.:\n",
      "1 * x_0 + 1 * slk_0_0 == 1\n",
      "-1 * x_0 + -1 * slk_1_0 == -1\n",
      "1 * x_0 + -1 * slk_2_0 == 0\n",
      "1 * x_0 == 1\n",
      "1 * y_0_0 + 1 * x_0 + 1 * slk_4_0 + 1 * slk_4_1 == 2\n",
      "1 * y_0_0 + 1 * x_0 + -1 * slk_5_0 + -1 * slk_5_1 == 0\n",
      "1 * y_0_0 + 1 * x_0 + -1 * slk_6_0 + -1 * slk_6_1 == 0\n",
      "1 * y_0_0 + 1 * x_0 + -1 * slk_7_0 == 1\n",
      "1 * y_0_0 + 1 * x_0 == 3\n",
      "-1 * y_0_0 + -1 * x_0 == -3\n",
      "\n",
      "penalty_lambda:\n",
      "32767\n",
      "\n",
      "\n"
     ]
    }
   ],
   "source": [
    "from choco.model.lin_constr_bin_opt import LinearConstrainedBinaryOptimization\n",
    "if __name__ == '__main__':\n",
    "    m = LinearConstrainedBinaryOptimization()\n",
    "    num_facilities = 1\n",
    "    num_demands = 1\n",
    "    x = m.addVars(num_facilities, name=\"x\")\n",
    "    y = m.addVars(num_demands, num_facilities, name=\"y\")\n",
    "    m.setObjective(sum(3 * y[i, j] for i in range(num_demands) for j in range(num_facilities)) + sum(4 * x[j] for j in range(num_facilities)), 'min')\n",
    "\n",
    "    m.addConstrs((2 * x[j] <= 2 + x[j] for i in range(num_demands) for j in range(num_facilities)))\n",
    "    m.addConstrs((-2 <= -x[j] for i in range(num_demands) for j in range(num_facilities)))\n",
    "    m.addConstrs((x[j] >= -1 for i in range(num_demands) for j in range(num_facilities)))\n",
    "    m.addConstrs((x[j] >= 1 for i in range(num_demands) for j in range(num_facilities)))\n",
    "    m.addConstrs((y[i, j] + x[j] <=  2 for i in range(num_demands) for j in range(num_facilities)))\n",
    "    m.addConstrs((y[i, j] + x[j] + 10 >=  10 for i in range(num_demands) for j in range(num_facilities)))\n",
    "    m.addConstrs((y[i, j] + x[j] + 10 >=  -10 for i in range(num_demands) for j in range(num_facilities)))\n",
    "    m.addConstrs((y[i, j] + x[j] + 10 >=  11 for i in range(num_demands) for j in range(num_facilities)))\n",
    "    m.addConstrs((y[i, j] + x[j] + 10 >=  13 for i in range(num_demands) for j in range(num_facilities)))\n",
    "    m.addConstrs((10 >= 13 - y[i, j] - x[j] for i in range(num_demands) for j in range(num_facilities)))\n",
    "\n",
    "\n",
    "    # m.optimize()\n",
    "    print(m)"
   ]
  },
  {
   "cell_type": "code",
   "execution_count": 1,
   "metadata": {},
   "outputs": [
    {
     "name": "stdout",
     "output_type": "stream",
     "text": [
      "Generated capacities: [8, 4, 1, 3, 9]\n",
      "Total capacity: 25\n"
     ]
    }
   ],
   "source": [
    "import random\n",
    "\n",
    "def generate_capacities(num_machines, total_capacity):\n",
    "    # 生成 num_machines - 1 个随机分割点\n",
    "    splits = sorted(random.sample(range(1, total_capacity), num_machines - 1))\n",
    "\n",
    "    # 根据分割点计算每个机器的容量\n",
    "    capacities = [splits[0]] + [splits[i] - splits[i - 1] for i in range(1, len(splits))] + [total_capacity - splits[-1]]\n",
    "\n",
    "    return capacities\n",
    "\n",
    "# 示例使用\n",
    "num_machines = 5\n",
    "total_capacity = 25\n",
    "\n",
    "capacities = generate_capacities(num_machines, total_capacity)\n",
    "print(\"Generated capacities:\", capacities)\n",
    "print(\"Total capacity:\", sum(capacities))\n"
   ]
  }
 ],
 "metadata": {
  "kernelspec": {
   "display_name": "choco",
   "language": "python",
   "name": "python3"
  },
  "language_info": {
   "codemirror_mode": {
    "name": "ipython",
    "version": 3
   },
   "file_extension": ".py",
   "mimetype": "text/x-python",
   "name": "python",
   "nbconvert_exporter": "python",
   "pygments_lexer": "ipython3",
   "version": "3.10.14"
  }
 },
 "nbformat": 4,
 "nbformat_minor": 2
}
